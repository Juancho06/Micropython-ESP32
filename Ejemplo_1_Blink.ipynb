{
 "cells": [
  {
   "cell_type": "markdown",
   "metadata": {},
   "source": [
    "<h1> Blink </h1>\n",
    "<p>\"Blink\" es uno de los programas más básicos y comúnmente utilizados en el mundo de la programación de microcontroladores, especialmente con plataformas como Arduino y ESP. Es el equivalente a \"Hello, World!\" en la programación de software. <br>\n",
    "El objetivo del programa Blink es encender y apagar un LED a intervalos regulares, lo que demuestra la funcionalidad básica de control de salida digital de un microcontrolador.\n",
    "</p>\n",
    "\n",
    "<h2> Materiales Necesarios </h2>\n",
    "<ul>\n",
    "    <li> Tarjeta ESP32 </li>\n",
    "    <li> Un Led </li>\n",
    "    <li> Resistencia de 220 ohmnios</li>\n",
    "    <li> Cables de conexión</li>\n",
    "    <li> Protoboard </li>\n",
    "</ul>\n",
    "<h2> Confección </h2>\n",
    "<p>\n",
    "Las conexiones para desarrollar este ejemplo son sencillas, unicamente se requiere conectar la resistencia de 220 ohmnios al anodo del led (pin postiva, fisicamente se puede identificar porque es la más larga del led), luego conectamos el cátodo (pin negativo del led) un pin del ESP32 identificado como GND, y conectamos el otro terminal de la resistemcia al pin 18 del ESP32.<br>\n",
    "Es posible tambié desarrollar el ejemplo con el led que ya viene incorporado en la misma tarjeta, unicamente debe identificarlo adecuadamente en la hoja de dato de su microcontrolador.\n",
    "</p>\n"
   ]
  },
  {
   "cell_type": "markdown",
   "metadata": {},
   "source": [
    "<img src=img\\blink_01.png>"
   ]
  },
  {
   "cell_type": "markdown",
   "metadata": {},
   "source": [
    "<h2> Código </h2>"
   ]
  },
  {
   "cell_type": "code",
   "execution_count": null,
   "metadata": {},
   "outputs": [],
   "source": [
    "from machine import Pin\n",
    "import time\n",
    "\n",
    "led = Pin(18, Pin.OUT)\n",
    "while True:\n",
    "    led.value(1)\n",
    "    time.sleep(1)\n",
    "    led.value(0)\n",
    "    time.sleep(1)"
   ]
  },
  {
   "cell_type": "markdown",
   "metadata": {},
   "source": [
    "## Explicación\n",
    "<ul>\n",
    "    <li> <strong> Importar librería machine: </strong> MicroPython tiene una biblioteca llamada machine que proporciona acceso a las funciones relacionadas con el hardware del microcontrolador. Además importaremos la biblioteca time para el control del tiempo <br>\n",
    "    <code>from machine import Pin </code><br>\n",
    "    <code>import time </code>\n",
    "    </li>\n",
    "    <li> <strong> Configurar el Pin del LED: </strong> Debes configurar un pin de tu placa como salida para controlar el LED. En muchas placas, el LED incorporado está conectado al pin GPIO 18, pero esto puede variar según tu placa.\n",
    "    <br>\n",
    "    <code>led = Pin(18, Pin.OUT)</code></li>\n",
    "    <li> <strong> Crear un Bucle Infinito para Parpadear el LED: </strong> Empleamos el comando \"While True:\" el cual ejecutara en bucle donde pondremos las intrucciones de encendido y apagado con una instrucción intermedia que determine la duracción de la acción.\n",
    "<code>While True:\n",
    "    led.value(1)\n",
    "    time.sleep(1)\n",
    "    led.value(0)\n",
    "    time.sleep(1);\n",
    "</code>\n",
    "    </li>\n",
    "</ul>\n"
   ]
  }
 ],
 "metadata": {
  "language_info": {
   "name": "python"
  }
 },
 "nbformat": 4,
 "nbformat_minor": 2
}
